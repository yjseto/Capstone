{
  "cells": [
    {
      "cell_type": "markdown",
      "metadata": {
        "id": "DD0et1-y6m-E"
      },
      "source": [
        "# Binary Classification of Alaska Car Crashes\n",
        "\n",
        "This notebook analyzes car crashes in Alaska, classifying them into severe (involving injury or death) and non-severe crashes."
      ]
    },
    {
      "cell_type": "markdown",
      "metadata": {
        "id": "_xrv13pU6m-F"
      },
      "source": [
        "## Import Libraries"
      ]
    },
    {
      "cell_type": "code",
      "execution_count": 1,
      "metadata": {
        "id": "UwZm48I-6m-F"
      },
      "outputs": [],
      "source": [
        "import pandas as pd\n",
        "import numpy as np\n",
        "from sklearn.model_selection import train_test_split, GridSearchCV\n",
        "from sklearn.preprocessing import LabelEncoder\n",
        "from xgboost import XGBClassifier\n",
        "from sklearn.metrics import classification_report, confusion_matrix, roc_auc_score\n",
        "import matplotlib.pyplot as plt\n",
        "import seaborn as sns\n",
        "from imblearn.over_sampling import SMOTE\n",
        "\n",
        "# Ensure the plot is displayed in the notebook\n",
        "%matplotlib inline"
      ]
    },
    {
      "cell_type": "markdown",
      "metadata": {
        "id": "vhSErBt56m-F"
      },
      "source": [
        "## Load and Preprocess Data\n",
        "\n",
        "Upload your CSV file to Google Colab before running this cell."
      ]
    },
    {
      "cell_type": "code",
      "execution_count": 4,
      "metadata": {
        "colab": {
          "base_uri": "https://localhost:8080/"
        },
        "id": "dgfmScfk6m-F",
        "outputId": "1187474a-4547-40be-dc1d-02b9431ef7a7"
      },
      "outputs": [
        {
          "output_type": "stream",
          "name": "stdout",
          "text": [
            "   crash_number            severity         first_harmful_event units  \\\n",
            "0     100074249  No Apparent Injury  Motor Vehicle In-Transport     2   \n",
            "1     100096154             Unknown                     Unknown     1   \n",
            "2     100109452  No Apparent Injury                 Live Animal     2   \n",
            "3     100109453     Possible Injury           Overturn/Rollover     1   \n",
            "4     100109454  No Apparent Injury  Motor Vehicle In-Transport     2   \n",
            "\n",
            "                    crash_type causal_unit_action at_intersection  \\\n",
            "0                      Unknown      Turning Right             Yes   \n",
            "1  Single Vehicle Run-Off-Road            Unknown              No   \n",
            "2               Animal-Vehicle     Going Straight              No   \n",
            "3  Single Vehicle Run-Off-Road     Going Straight              No   \n",
            "4               Angle - T-Bone   Starting in Road             Yes   \n",
            "\n",
            "       junction                                manner_of_collision  weather  \\\n",
            "0  Intersection                                              Angle    Clear   \n",
            "1       Unknown                                            Unknown  Unknown   \n",
            "2  Non-Junction  Not a Collision with a Motor Vehicle In-Transport    Clear   \n",
            "3  Non-Junction  Not a Collision with a Motor Vehicle In-Transport     Snow   \n",
            "4  Intersection                                              Angle    Clear   \n",
            "\n",
            "       area fatal minor serioues  severe_crash  \n",
            "0     urban    No    No       No             0  \n",
            "1     rural    No    No       No             0  \n",
            "2  suburban    No    No       No             0  \n",
            "3  suburban    No   Yes       No             0  \n",
            "4     urban    No    No       No             0  \n",
            "<class 'pandas.core.frame.DataFrame'>\n",
            "RangeIndex: 58454 entries, 0 to 58453\n",
            "Data columns (total 15 columns):\n",
            " #   Column               Non-Null Count  Dtype \n",
            "---  ------               --------------  ----- \n",
            " 0   crash_number         58454 non-null  int64 \n",
            " 1   severity             58454 non-null  object\n",
            " 2   first_harmful_event  58454 non-null  object\n",
            " 3   units                58454 non-null  object\n",
            " 4   crash_type           58454 non-null  object\n",
            " 5   causal_unit_action   58454 non-null  object\n",
            " 6   at_intersection      58454 non-null  object\n",
            " 7   junction             58454 non-null  object\n",
            " 8   manner_of_collision  58454 non-null  object\n",
            " 9   weather              58454 non-null  object\n",
            " 10  area                 58424 non-null  object\n",
            " 11  fatal                58454 non-null  object\n",
            " 12  minor                58454 non-null  object\n",
            " 13  serioues             58454 non-null  object\n",
            " 14  severe_crash         58454 non-null  int64 \n",
            "dtypes: int64(2), object(13)\n",
            "memory usage: 6.7+ MB\n",
            "None\n",
            "\n",
            "Missing values:\n",
            "crash_number            0\n",
            "severity                0\n",
            "first_harmful_event     0\n",
            "units                   0\n",
            "crash_type              0\n",
            "causal_unit_action      0\n",
            "at_intersection         0\n",
            "junction                0\n",
            "manner_of_collision     0\n",
            "weather                 0\n",
            "area                   30\n",
            "fatal                   0\n",
            "minor                   0\n",
            "serioues                0\n",
            "severe_crash            0\n",
            "dtype: int64\n"
          ]
        },
        {
          "output_type": "stream",
          "name": "stderr",
          "text": [
            "<ipython-input-4-d848fbac4c23>:20: SettingWithCopyWarning: \n",
            "A value is trying to be set on a copy of a slice from a DataFrame.\n",
            "Try using .loc[row_indexer,col_indexer] = value instead\n",
            "\n",
            "See the caveats in the documentation: https://pandas.pydata.org/pandas-docs/stable/user_guide/indexing.html#returning-a-view-versus-a-copy\n",
            "  df[col] = le.fit_transform(df[col])\n",
            "<ipython-input-4-d848fbac4c23>:20: SettingWithCopyWarning: \n",
            "A value is trying to be set on a copy of a slice from a DataFrame.\n",
            "Try using .loc[row_indexer,col_indexer] = value instead\n",
            "\n",
            "See the caveats in the documentation: https://pandas.pydata.org/pandas-docs/stable/user_guide/indexing.html#returning-a-view-versus-a-copy\n",
            "  df[col] = le.fit_transform(df[col])\n"
          ]
        }
      ],
      "source": [
        "# Load the dataset\n",
        "df = pd.read_csv('cleaned_test_data.csv')\n",
        "\n",
        "# Create binary target variable\n",
        "df['severe_crash'] = df['severity'].apply(lambda x: 1 if x in ['Fatal Injury (Killed)', 'Suspected Serious Injury'] else 0)\n",
        "\n",
        "# Display the first few rows and basic information about the dataset\n",
        "print(df.head())\n",
        "print(df.info())\n",
        "\n",
        "# Check for missing values and handle them\n",
        "print(\"\\nMissing values:\")\n",
        "print(df.isnull().sum())\n",
        "df = df.dropna()\n",
        "\n",
        "# Encode categorical variables\n",
        "categorical_columns = ['first_harmful_event', 'units', 'crash_type', 'causal_unit_action', 'at_intersection', 'junction', 'manner_of_collision', 'weather', 'area']\n",
        "le = LabelEncoder()\n",
        "for col in categorical_columns:\n",
        "    df[col] = le.fit_transform(df[col])"
      ]
    },
    {
      "cell_type": "markdown",
      "metadata": {
        "id": "snX-OED96m-G"
      },
      "source": [
        "## Prepare Features and Target Variable"
      ]
    },
    {
      "cell_type": "code",
      "execution_count": 6,
      "metadata": {
        "colab": {
          "base_uri": "https://localhost:8080/"
        },
        "id": "EDSKjHZC6m-G",
        "outputId": "446b1fa0-abb4-4df9-f777-8272ba2ab9d5"
      },
      "outputs": [
        {
          "output_type": "stream",
          "name": "stdout",
          "text": [
            "Original class distribution:\n",
            "severe_crash\n",
            "0    0.966067\n",
            "1    0.033933\n",
            "Name: proportion, dtype: float64\n",
            "\n",
            "Resampled class distribution:\n",
            "severe_crash\n",
            "0    0.5\n",
            "1    0.5\n",
            "Name: proportion, dtype: float64\n"
          ]
        }
      ],
      "source": [
        "# Prepare features and target variable\n",
        "X = df.drop(['crash_number', 'severity', 'fatal', 'minor', 'serioues', 'severe_crash'], axis=1)\n",
        "y = df['severe_crash']\n",
        "\n",
        "# Split the data\n",
        "X_train, X_test, y_train, y_test = train_test_split(X, y, test_size=0.2, random_state=42)\n",
        "\n",
        "# Apply SMOTE to handle class imbalance\n",
        "smote = SMOTE(random_state=42)\n",
        "X_train_resampled, y_train_resampled = smote.fit_resample(X_train, y_train)\n",
        "\n",
        "print(\"Original class distribution:\")\n",
        "print(y_train.value_counts(normalize=True))\n",
        "print(\"\\nResampled class distribution:\")\n",
        "print(pd.Series(y_train_resampled).value_counts(normalize=True))"
      ]
    },
    {
      "cell_type": "markdown",
      "metadata": {
        "id": "LwD8WvGV6m-G"
      },
      "source": [
        "## Model Training and Hyperparameter Tuning"
      ]
    },
    {
      "cell_type": "code",
      "execution_count": 7,
      "metadata": {
        "colab": {
          "base_uri": "https://localhost:8080/"
        },
        "id": "jGdL_Z2I6m-G",
        "outputId": "4bad5918-cd83-4166-d5c3-066a0fe70284"
      },
      "outputs": [
        {
          "output_type": "stream",
          "name": "stdout",
          "text": [
            "Best parameters: {'colsample_bytree': 1.0, 'learning_rate': 0.3, 'max_depth': 5, 'n_estimators': 200, 'subsample': 0.8}\n",
            "Best cross-validation score: 0.946308131311013\n"
          ]
        }
      ],
      "source": [
        "# Define hyperparameter grid for tuning\n",
        "param_grid = {\n",
        "    'max_depth': [3, 4, 5],\n",
        "    'learning_rate': [0.01, 0.1, 0.3],\n",
        "    'n_estimators': [100, 200],\n",
        "    'subsample': [0.8, 1.0],\n",
        "    'colsample_bytree': [0.8, 1.0]\n",
        "}\n",
        "\n",
        "# Perform grid search with cross-validation\n",
        "model = XGBClassifier(random_state=42)\n",
        "grid_search = GridSearchCV(estimator=model, param_grid=param_grid, cv=3, scoring='roc_auc', n_jobs=-1)\n",
        "grid_search.fit(X_train_resampled, y_train_resampled)\n",
        "\n",
        "print(\"Best parameters:\", grid_search.best_params_)\n",
        "print(\"Best cross-validation score:\", grid_search.best_score_)\n",
        "\n",
        "# Use the best model for prediction\n",
        "best_model = grid_search.best_estimator_\n",
        "y_pred = best_model.predict(X_test)\n",
        "y_pred_proba = best_model.predict_proba(X_test)[:, 1]"
      ]
    },
    {
      "cell_type": "markdown",
      "metadata": {
        "id": "GBlldsuQ6m-G"
      },
      "source": [
        "## Model Evaluation"
      ]
    },
    {
      "cell_type": "code",
      "execution_count": 8,
      "metadata": {
        "colab": {
          "base_uri": "https://localhost:8080/"
        },
        "id": "1gCePHbB6m-G",
        "outputId": "cc713d77-302d-4feb-a6f9-c3f91c226583"
      },
      "outputs": [
        {
          "output_type": "stream",
          "name": "stdout",
          "text": [
            "Classification Report:\n",
            "              precision    recall  f1-score   support\n",
            "\n",
            "           0       0.99      0.88      0.93     11317\n",
            "           1       0.14      0.60      0.22       368\n",
            "\n",
            "    accuracy                           0.87     11685\n",
            "   macro avg       0.56      0.74      0.58     11685\n",
            "weighted avg       0.96      0.87      0.91     11685\n",
            "\n",
            "\n",
            "Confusion Matrix:\n",
            "[[9949 1368]\n",
            " [ 148  220]]\n",
            "\n",
            "ROC AUC Score:\n",
            "0.8172566953909279\n"
          ]
        }
      ],
      "source": [
        "# Evaluate the improved model\n",
        "print(\"Classification Report:\")\n",
        "print(classification_report(y_test, y_pred))\n",
        "\n",
        "print(\"\\nConfusion Matrix:\")\n",
        "print(confusion_matrix(y_test, y_pred))\n",
        "\n",
        "print(\"\\nROC AUC Score:\")\n",
        "print(roc_auc_score(y_test, y_pred_proba))"
      ]
    },
    {
      "cell_type": "markdown",
      "metadata": {
        "id": "IdOZPNtU6m-G"
      },
      "source": [
        "## Feature Importance Visualization"
      ]
    },
    {
      "cell_type": "code",
      "execution_count": 9,
      "metadata": {
        "colab": {
          "base_uri": "https://localhost:8080/",
          "height": 407
        },
        "id": "wLwQ9pQ56m-G",
        "outputId": "a8347fa4-a394-4479-84a0-056b7c53058d"
      },
      "outputs": [
        {
          "output_type": "display_data",
          "data": {
            "text/plain": [
              "<Figure size 1000x600 with 1 Axes>"
            ],
            "image/png": "[encoded data removed]"
          },
          "metadata": {}
        }
      ],
      "source": [
        "# Plot feature importance\n",
        "plt.figure(figsize=(10, 6))\n",
        "feat_importances = pd.Series(best_model.feature_importances_, index=X.columns)\n",
        "feat_importances.nlargest(10).plot(kind='barh')\n",
        "plt.title(\"Top 10 Important Features\")\n",
        "plt.xlabel(\"Feature Importance Score\")\n",
        "plt.tight_layout()\n",
        "plt.show()"
      ]
    },
    {
      "cell_type": "markdown",
      "metadata": {
        "id": "HwFPLogh6m-H"
      },
      "source": [
        "## Insights"
      ]
    },
    {
      "cell_type": "code",
      "execution_count": 10,
      "metadata": {
        "colab": {
          "base_uri": "https://localhost:8080/"
        },
        "id": "HLmYuJRJ6m-H",
        "outputId": "9c7282d7-045d-452f-ea0f-7086bdbfdeff"
      },
      "outputs": [
        {
          "output_type": "stream",
          "name": "stdout",
          "text": [
            "Insights:\n",
            "1. The top contributing factors to severe car crashes in Alaska are:\n",
            "   1. area\n",
            "   2. crash_type\n",
            "   3. units\n",
            "   4. at_intersection\n",
            "   5. manner_of_collision\n",
            "\n",
            "2. The model's performance can be seen in the classification report above.\n",
            "\n",
            "3. The confusion matrix shows the model's prediction accuracy for severe vs. non-severe crashes.\n",
            "\n",
            "4. SMOTE was used to balance the classes in the training data.\n",
            "\n",
            "5. Hyperparameter tuning found the best parameters for the XGBoost model, optimizing its performance.\n",
            "\n",
            "6. The ROC AUC score indicates the model's ability to distinguish between severe and non-severe crashes.\n"
          ]
        }
      ],
      "source": [
        "print(\"Insights:\")\n",
        "print(\"1. The top contributing factors to severe car crashes in Alaska are:\")\n",
        "for i, feature in enumerate(feat_importances.nlargest(5).index, 1):\n",
        "    print(f\"   {i}. {feature}\")\n",
        "\n",
        "print(\"\\n2. The model's performance can be seen in the classification report above.\")\n",
        "print(\"\\n3. The confusion matrix shows the model's prediction accuracy for severe vs. non-severe crashes.\")\n",
        "print(\"\\n4. SMOTE was used to balance the classes in the training data.\")\n",
        "print(\"\\n5. Hyperparameter tuning found the best parameters for the XGBoost model, optimizing its performance.\")\n",
        "print(\"\\n6. The ROC AUC score indicates the model's ability to distinguish between severe and non-severe crashes.\")"
      ]
    }
  ],
  "metadata": {
    "kernelspec": {
      "display_name": "Python 3",
      "language": "python",
      "name": "python3"
    },
    "language_info": {
      "codemirror_mode": {
        "name": "ipython",
        "version": 3
      },
      "file_extension": ".ipynb",
      "mimetype": "text/x-python",
      "name": "python",
      "nbconvert_exporter": "python",
      "pygments_lexer": "ipython3",
      "version": "3.8.5"
    },
    "colab": {
      "provenance": []
    }
  },
  "nbformat": 4,
  "nbformat_minor": 0
}